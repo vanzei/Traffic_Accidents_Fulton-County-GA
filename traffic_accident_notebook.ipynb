{
 "cells": [
  {
   "cell_type": "code",
   "execution_count": 29,
   "metadata": {},
   "outputs": [],
   "source": [
    "import pandas as pd\n",
    "import numpy as np\n",
    "import plotly.express as go\n",
    "import glob\n",
    "import folium\n",
    "from folium.plugins import MarkerCluster\n",
    "from folium import IFrame\n",
    "from folium import plugins\n",
    "from sklearn.cluster import KMeans\n",
    "from datetime import datetime\n",
    "import os\n",
    "import matplotlib.pyplot as plt\n",
    "today=datetime.today().strftime('%Y-%m-%d')\n"
   ]
  },
  {
   "cell_type": "code",
   "execution_count": 30,
   "metadata": {},
   "outputs": [],
   "source": [
    "df = pd.read_csv(\"Traffic_Accident_Locations.csv\")\n"
   ]
  },
  {
   "cell_type": "code",
   "execution_count": 31,
   "metadata": {},
   "outputs": [],
   "source": [
    "df = df.drop(columns=[\"AccidentID\",\"County\",\"AgencyCode\",\"City\",\"AddressOrStreetName\",\n",
    "                \"geox\",\"geoy\",\"CaseNumber\",\"RoadType\",\"RoadCharacter\",\"SupplementalReportTaken\",\"PDUnit\",\n",
    "                \"PDDivision\",\"PDShift\",\"PDDistrict\",\"PrivateProperty\"], axis=1)"
   ]
  },
  {
   "cell_type": "code",
   "execution_count": 32,
   "metadata": {},
   "outputs": [],
   "source": [
    "df[[\"Day\",\"Time\"]] = df[\"DateTimeOccurred\"].str.split(\" \",expand=True)"
   ]
  },
  {
   "cell_type": "code",
   "execution_count": 33,
   "metadata": {},
   "outputs": [],
   "source": [
    "df = df[[\"OBJECTID\",'Day', 'TimeOccurred','X', 'Y','DayOfWeek','UnitsInvolved', 'RoadLanes', 'RoadSurface', 'RoadDefects','LocationOfImpact', 'MannerOfCollision', 'LightingCondition',\n",
    "        'WeatherCondition', 'TrafficFlow', 'PDZone']]"
   ]
  },
  {
   "cell_type": "code",
   "execution_count": 34,
   "metadata": {},
   "outputs": [
    {
     "data": {
      "text/plain": [
       "Int64Index([2016, 2019, 2018, 2017, 2015, 2014, 2013, 2012, 2011, 2010, 2020,\n",
       "            2021],\n",
       "           dtype='int64', name='Day')"
      ]
     },
     "execution_count": 34,
     "metadata": {},
     "output_type": "execute_result"
    }
   ],
   "source": [
    "pd.DatetimeIndex(df['Day']).year.unique()"
   ]
  },
  {
   "cell_type": "markdown",
   "metadata": {},
   "source": [
    "Since I don`t have missing coordinates, it`s possible to generate thte PDZone Using KNN Technique by getting the nearest coordinate and imput the same PDZone"
   ]
  },
  {
   "cell_type": "markdown",
   "metadata": {},
   "source": [
    "** Haversine’s Equation **"
   ]
  },
  {
   "cell_type": "code",
   "execution_count": 35,
   "metadata": {},
   "outputs": [],
   "source": [
    "df_missing_PD = df[df[\"PDZone\"].isna()]"
   ]
  },
  {
   "cell_type": "code",
   "execution_count": 36,
   "metadata": {},
   "outputs": [],
   "source": [
    "df_PD_ok = df[~df[\"PDZone\"].isna()]"
   ]
  },
  {
   "cell_type": "code",
   "execution_count": 37,
   "metadata": {},
   "outputs": [],
   "source": [
    "from math import radians, cos, sin, asin, sqrt\n",
    "def dist(lat1, long1, lat2, long2):\n",
    "    \"\"\"\n",
    "Replicating the same formula as mentioned in Wiki\n",
    "    \"\"\"\n",
    "    # convert decimal degrees to radians \n",
    "    lat1, long1, lat2, long2 = map(radians, [lat1, long1, lat2, long2])\n",
    "    # haversine formula \n",
    "    dlon = long2 - long1 \n",
    "    dlat = lat2 - lat1 \n",
    "    a = sin(dlat/2)**2 + cos(lat1) * cos(lat2) * sin(dlon/2)**2\n",
    "    c = 2 * asin(sqrt(a)) \n",
    "    # Radius of earth in kilometers is 6371\n",
    "    km = 6371* c\n",
    "    return km"
   ]
  },
  {
   "cell_type": "code",
   "execution_count": 38,
   "metadata": {},
   "outputs": [],
   "source": [
    "def find_nearest(lat, long):\n",
    "    distances = df_PD_ok.apply(\n",
    "        lambda row: dist(lat, long, row['X'], row['Y']), \n",
    "        axis=1)\n",
    "    return df_PD_ok.loc[distances.idxmin(), 'OBJECTID']"
   ]
  },
  {
   "cell_type": "code",
   "execution_count": 39,
   "metadata": {},
   "outputs": [],
   "source": [
    "if len(glob.glob(\"./complete_df.csv\"))> 0:\n",
    "    df_completed = pd.read_csv(\"complete_df.csv\")\n",
    "else:\n",
    "    df_missing_PD['name'] = df_missing_PD.apply(\n",
    "        lambda row: find_nearest(row['X'], row['Y']), \n",
    "        axis=1)\n",
    "    # To check the data frame if it has a new column of hotel name (for each and every member's location in the list)\n",
    "    reference = df_PD_ok[[\"OBJECTID\",'PDZone']]\n",
    "    df_missing_PD = df_missing_PD.merge(reference,\n",
    "        left_on='name', \n",
    "        right_on='OBJECTID')\n",
    "    df_missing_PD = df_missing_PD[['OBJECTID_x', 'Day', 'TimeOccurred', 'X', 'Y', 'DayOfWeek',\n",
    "        'UnitsInvolved', 'RoadLanes', 'RoadSurface', 'RoadDefects',\n",
    "        'LocationOfImpact', 'MannerOfCollision', 'LightingCondition',\n",
    "        'WeatherCondition', 'TrafficFlow', 'PDZone_y']]\n",
    "    df_missing_PD = df_missing_PD.rename(columns={\"OBJECTID_x\":\"OBJECTID\",\"PDZone_y\":\"PDZone\"})\n",
    "    df_completed = df_missing_PD.append(df_PD_ok)\n",
    "    df_completed.to_csv(\"./complete_df.csv\")"
   ]
  },
  {
   "cell_type": "code",
   "execution_count": 40,
   "metadata": {},
   "outputs": [],
   "source": [
    "df_completed = df_completed.set_index(\"Day\")\n",
    "df_completed.index = pd.to_datetime(df_completed.index)"
   ]
  },
  {
   "cell_type": "code",
   "execution_count": 41,
   "metadata": {},
   "outputs": [],
   "source": [
    "df_completed['TimeOccurred'] = pd.to_datetime(df_completed['TimeOccurred'], errors='coerce')\n",
    "df_completed['period'] = (df_completed['TimeOccurred'].dt.hour % 24 + 4) // 4\n",
    "df_completed['period'].replace({1: 'Late Night',\n",
    "                      2: 'Early Morning',\n",
    "                      3: 'Morning',\n",
    "                      4: 'Noon',\n",
    "                      5: 'Evening',\n",
    "                      6: 'Night'}, inplace=True)"
   ]
  },
  {
   "cell_type": "code",
   "execution_count": 42,
   "metadata": {},
   "outputs": [],
   "source": [
    "df_completed['year'] = pd.DatetimeIndex(df_completed.index).year"
   ]
  },
  {
   "cell_type": "code",
   "execution_count": 43,
   "metadata": {},
   "outputs": [],
   "source": [
    "df_completed[\"TimeOccurred\"] = pd.to_datetime(df_completed['TimeOccurred']).dt.time"
   ]
  },
  {
   "cell_type": "code",
   "execution_count": 44,
   "metadata": {},
   "outputs": [],
   "source": [
    "df_count_accidents = df_completed.groupby([\"Day\"])[\"DayOfWeek\"].count().reset_index().sort_values(by='DayOfWeek', ascending=False)"
   ]
  },
  {
   "cell_type": "code",
   "execution_count": 45,
   "metadata": {},
   "outputs": [],
   "source": [
    "df_count_accidents = df_count_accidents.set_index(\"Day\")\n",
    "df_count_accidents.index = pd.to_datetime(df_count_accidents.index)\n"
   ]
  },
  {
   "cell_type": "code",
   "execution_count": 46,
   "metadata": {},
   "outputs": [],
   "source": [
    "df_count_accidents=df_count_accidents.rename(columns={\"DayOfWeek\":\"Count\"}).sort_index()"
   ]
  },
  {
   "cell_type": "code",
   "execution_count": 47,
   "metadata": {},
   "outputs": [],
   "source": [
    "from pandas.tseries.holiday import USFederalHolidayCalendar as calendar\n",
    "cal = calendar()\n",
    "holidays = cal.holidays(start=df_count_accidents.index.min(), end=df_count_accidents.index.max())\n",
    "\n",
    "df_count_accidents['Holiday'] = df_count_accidents.index.isin(holidays)\n"
   ]
  },
  {
   "cell_type": "code",
   "execution_count": 48,
   "metadata": {},
   "outputs": [],
   "source": [
    "df_count_accidents = df_count_accidents[[\"Holiday\",\"Count\"]]"
   ]
  },
  {
   "cell_type": "markdown",
   "metadata": {},
   "source": [
    "Do we have more accidents on holiday?"
   ]
  },
  {
   "cell_type": "markdown",
   "metadata": {},
   "source": [
    "Based on our data, it indicates that in Johns Creek it doesn`t!"
   ]
  },
  {
   "cell_type": "code",
   "execution_count": 49,
   "metadata": {},
   "outputs": [
    {
     "data": {
      "text/html": [
       "<div>\n",
       "<style scoped>\n",
       "    .dataframe tbody tr th:only-of-type {\n",
       "        vertical-align: middle;\n",
       "    }\n",
       "\n",
       "    .dataframe tbody tr th {\n",
       "        vertical-align: top;\n",
       "    }\n",
       "\n",
       "    .dataframe thead th {\n",
       "        text-align: right;\n",
       "    }\n",
       "</style>\n",
       "<table border=\"1\" class=\"dataframe\">\n",
       "  <thead>\n",
       "    <tr style=\"text-align: right;\">\n",
       "      <th></th>\n",
       "      <th>DayOfWeek</th>\n",
       "      <th>year</th>\n",
       "      <th>count</th>\n",
       "    </tr>\n",
       "  </thead>\n",
       "  <tbody>\n",
       "    <tr>\n",
       "      <th>83</th>\n",
       "      <td>Wednesday</td>\n",
       "      <td>2021</td>\n",
       "      <td>208</td>\n",
       "    </tr>\n",
       "    <tr>\n",
       "      <th>59</th>\n",
       "      <td>Thursday</td>\n",
       "      <td>2021</td>\n",
       "      <td>199</td>\n",
       "    </tr>\n",
       "    <tr>\n",
       "      <th>71</th>\n",
       "      <td>Tuesday</td>\n",
       "      <td>2021</td>\n",
       "      <td>128</td>\n",
       "    </tr>\n",
       "    <tr>\n",
       "      <th>11</th>\n",
       "      <td>Friday</td>\n",
       "      <td>2021</td>\n",
       "      <td>126</td>\n",
       "    </tr>\n",
       "    <tr>\n",
       "      <th>23</th>\n",
       "      <td>Monday</td>\n",
       "      <td>2021</td>\n",
       "      <td>117</td>\n",
       "    </tr>\n",
       "    <tr>\n",
       "      <th>47</th>\n",
       "      <td>Sunday</td>\n",
       "      <td>2021</td>\n",
       "      <td>77</td>\n",
       "    </tr>\n",
       "    <tr>\n",
       "      <th>35</th>\n",
       "      <td>Saturday</td>\n",
       "      <td>2021</td>\n",
       "      <td>55</td>\n",
       "    </tr>\n",
       "  </tbody>\n",
       "</table>\n",
       "</div>"
      ],
      "text/plain": [
       "    DayOfWeek  year  count\n",
       "83  Wednesday  2021    208\n",
       "59   Thursday  2021    199\n",
       "71    Tuesday  2021    128\n",
       "11     Friday  2021    126\n",
       "23     Monday  2021    117\n",
       "47     Sunday  2021     77\n",
       "35   Saturday  2021     55"
      ]
     },
     "execution_count": 49,
     "metadata": {},
     "output_type": "execute_result"
    }
   ],
   "source": [
    "df_completed.groupby([\"DayOfWeek\", \"year\"])[\"OBJECTID\"].count().reset_index(name='count').sort_values(['year','count'], ascending=[False,False]).head(7)"
   ]
  },
  {
   "cell_type": "markdown",
   "metadata": {},
   "source": [
    "At least from my expectation both informations are quite counterintuitive. Weekends are also not the days with most accidents!"
   ]
  },
  {
   "cell_type": "markdown",
   "metadata": {},
   "source": [
    "Create Data Visualization to see the accidents distribution per year.\n",
    "Saving in different html per year"
   ]
  },
  {
   "cell_type": "code",
   "execution_count": 51,
   "metadata": {},
   "outputs": [],
   "source": [
    "years = df_completed[\"year\"].unique()"
   ]
  },
  {
   "cell_type": "code",
   "execution_count": 52,
   "metadata": {},
   "outputs": [],
   "source": [
    "weird_lat_long = []\n",
    "def marker_tomap(x,y,index):\n",
    "    ## It was necessary to create this -90 filter since some data seemed to be posted incorrectly reporting accidents in the middle of the coast of California.\n",
    "    if y < -90:\n",
    "        weird_lat_long.append([index,x,y])\n",
    "        return 0\n",
    "\n",
    "    \n",
    "    if row.RoadSurface == \"Dry\":\n",
    "        colors_ = \"orange\"\n",
    "        folium.Marker(location=[x,y],\\\n",
    "        icon = folium.Icon(color=colors_,icon=\"glyphicon glyphicon-leaf\"),\\\n",
    "        popup = \"Latitude:\" + str(x) + \"\\nLongitude:\" + str(y) + \"\\nTimeOccurred:\" + str(row.TimeOccurred) +\"  \\n  \"+ \"\\nUnitsInvolved:\\n\"+str(row.UnitsInvolved) + \"\\nPeriod:\" + str(row.period)).add_to(m)\n",
    "        \n",
    "    elif row.RoadSurface == \"Wet\":\n",
    "        colors_ = \"blue\"\n",
    "        folium.Marker(location=[x,y],\\\n",
    "        icon = folium.Icon(color=colors_,icon='glyphicon glyphicon-tint'),\n",
    "        popup = \"Latitude:\" + str(x) + \"\\nLongitude:\" + str(y) + \"\\nTimeOccurred:\" + str(row.TimeOccurred) +\"  \\n  \"+ \"\\nUnitsInvolved:\\n\"+str(row.UnitsInvolved) + \"\\nPeriod:\" + str(row.period)).add_to(m)\n",
    "\n",
    "    else:\n",
    "        colors_=\"black\"\n",
    "        folium.Marker(location=[x,y],\\\n",
    "        icon = folium.Icon(color=colors_),\n",
    "        popup = \"Latitude:\" + str(x) + \"\\nLongitude:\" + str(y) + \"\\nTimeOccurred:\" + str(row.TimeOccurred) +\"  \\n  \"+ \"\\nUnitsInvolved:\\n\"+str(row.UnitsInvolved) + \"\\nPeriod:\" + str(row.period)).add_to(m)\n"
   ]
  },
  {
   "cell_type": "code",
   "execution_count": 53,
   "metadata": {},
   "outputs": [],
   "source": [
    "\n",
    "for year in years:\n",
    "    m = folium.Map([33.8, -84.24], tiles='Cartodb positron', zoom_start=10)\n",
    "    minimap = plugins.MiniMap(toggle_display=True)\n",
    "    for (index, row) in df_completed.iterrows():\n",
    "        if row.year == year:\n",
    "            marker_tomap(row.Y,row.X,index)\n",
    "\n",
    "    m.add_child(minimap)\n",
    "    m.add_child(folium.LatLngPopup())\n",
    "    plugins.ScrollZoomToggler().add_to(m)\n",
    "    plugins.Fullscreen(position='topleft').add_to(m)\n",
    "    m.save(os.path.join('results', str(year)+'result.html'))\n",
    "    exported_file1 = str(year)+'-result.html'"
   ]
  }
 ],
 "metadata": {
  "kernelspec": {
   "display_name": "Python 3.9.12 ('base')",
   "language": "python",
   "name": "python3"
  },
  "language_info": {
   "codemirror_mode": {
    "name": "ipython",
    "version": 3
   },
   "file_extension": ".py",
   "mimetype": "text/x-python",
   "name": "python",
   "nbconvert_exporter": "python",
   "pygments_lexer": "ipython3",
   "version": "3.9.12"
  },
  "orig_nbformat": 4,
  "vscode": {
   "interpreter": {
    "hash": "ad2bdc8ecc057115af97d19610ffacc2b4e99fae6737bb82f5d7fb13d2f2c186"
   }
  }
 },
 "nbformat": 4,
 "nbformat_minor": 2
}
